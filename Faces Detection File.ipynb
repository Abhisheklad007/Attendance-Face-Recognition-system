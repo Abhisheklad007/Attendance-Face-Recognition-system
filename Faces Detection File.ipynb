{
 "cells": [
  {
   "cell_type": "code",
   "execution_count": 8,
   "id": "21f71b3b",
   "metadata": {},
   "outputs": [
    {
     "name": "stdout",
     "output_type": "stream",
     "text": [
      "Enter Your Name: Abhishek\n"
     ]
    },
    {
     "ename": "ValueError",
     "evalue": "all the input arrays must have same number of dimensions, but the array at index 0 has 1 dimension(s) and the array at index 1 has 2 dimension(s)",
     "output_type": "error",
     "traceback": [
      "\u001b[1;31m---------------------------------------------------------------------------\u001b[0m",
      "\u001b[1;31mValueError\u001b[0m                                Traceback (most recent call last)",
      "Input \u001b[1;32mIn [8]\u001b[0m, in \u001b[0;36m<cell line: 56>\u001b[1;34m()\u001b[0m\n\u001b[0;32m     60\u001b[0m \u001b[38;5;28;01mwith\u001b[39;00m \u001b[38;5;28mopen\u001b[39m(\u001b[38;5;124m'\u001b[39m\u001b[38;5;124mData/faces_data.pkl\u001b[39m\u001b[38;5;124m'\u001b[39m, \u001b[38;5;124m'\u001b[39m\u001b[38;5;124mrb\u001b[39m\u001b[38;5;124m'\u001b[39m) \u001b[38;5;28;01mas\u001b[39;00m f:\n\u001b[0;32m     61\u001b[0m     faces \u001b[38;5;241m=\u001b[39m pickle\u001b[38;5;241m.\u001b[39mload(f)\n\u001b[1;32m---> 62\u001b[0m faces \u001b[38;5;241m=\u001b[39m \u001b[43mnp\u001b[49m\u001b[38;5;241;43m.\u001b[39;49m\u001b[43mappend\u001b[49m\u001b[43m(\u001b[49m\u001b[43mfaces\u001b[49m\u001b[43m,\u001b[49m\u001b[43m \u001b[49m\u001b[43mfaces_data\u001b[49m\u001b[43m,\u001b[49m\u001b[43m \u001b[49m\u001b[43maxis\u001b[49m\u001b[43m \u001b[49m\u001b[38;5;241;43m=\u001b[39;49m\u001b[43m \u001b[49m\u001b[38;5;241;43m0\u001b[39;49m\u001b[43m)\u001b[49m\n\u001b[0;32m     63\u001b[0m \u001b[38;5;28;01mwith\u001b[39;00m \u001b[38;5;28mopen\u001b[39m(\u001b[38;5;124m'\u001b[39m\u001b[38;5;124mData/faces_data.pkl\u001b[39m\u001b[38;5;124m'\u001b[39m,\u001b[38;5;124m'\u001b[39m\u001b[38;5;124mwb\u001b[39m\u001b[38;5;124m'\u001b[39m) \u001b[38;5;28;01mas\u001b[39;00m f:\n\u001b[0;32m     64\u001b[0m     pickle\u001b[38;5;241m.\u001b[39mdump(names, f)\n",
      "File \u001b[1;32m<__array_function__ internals>:5\u001b[0m, in \u001b[0;36mappend\u001b[1;34m(*args, **kwargs)\u001b[0m\n",
      "File \u001b[1;32m~\\anaconda3\\lib\\site-packages\\numpy\\lib\\function_base.py:4817\u001b[0m, in \u001b[0;36mappend\u001b[1;34m(arr, values, axis)\u001b[0m\n\u001b[0;32m   4815\u001b[0m     values \u001b[38;5;241m=\u001b[39m ravel(values)\n\u001b[0;32m   4816\u001b[0m     axis \u001b[38;5;241m=\u001b[39m arr\u001b[38;5;241m.\u001b[39mndim\u001b[38;5;241m-\u001b[39m\u001b[38;5;241m1\u001b[39m\n\u001b[1;32m-> 4817\u001b[0m \u001b[38;5;28;01mreturn\u001b[39;00m \u001b[43mconcatenate\u001b[49m\u001b[43m(\u001b[49m\u001b[43m(\u001b[49m\u001b[43marr\u001b[49m\u001b[43m,\u001b[49m\u001b[43m \u001b[49m\u001b[43mvalues\u001b[49m\u001b[43m)\u001b[49m\u001b[43m,\u001b[49m\u001b[43m \u001b[49m\u001b[43maxis\u001b[49m\u001b[38;5;241;43m=\u001b[39;49m\u001b[43maxis\u001b[49m\u001b[43m)\u001b[49m\n",
      "File \u001b[1;32m<__array_function__ internals>:5\u001b[0m, in \u001b[0;36mconcatenate\u001b[1;34m(*args, **kwargs)\u001b[0m\n",
      "\u001b[1;31mValueError\u001b[0m: all the input arrays must have same number of dimensions, but the array at index 0 has 1 dimension(s) and the array at index 1 has 2 dimension(s)"
     ]
    }
   ],
   "source": [
    "import cv2 \n",
    "import pickle\n",
    "import numpy as np\n",
    "import os\n",
    "\n",
    "# On the web camera\n",
    "video = cv2.VideoCapture(0)\n",
    "facedetect = cv2.CascadeClassifier('C:/Users/intel/Desktop/Python Notebook/Face Recognition attendance system/haarcascade_frontalface_default.xml')   #algorithm\n",
    "\n",
    "faces_data = []\n",
    "\n",
    "\n",
    "i = 0\n",
    "name = input('Enter Your Name: ')\n",
    "\n",
    "while True:\n",
    "    ret,frame = video.read()\n",
    "    # Check if the frame is successfully read\n",
    "    if not ret:\n",
    "        print(\"Error reading the frame\")\n",
    "        break\n",
    "    gray=cv2.cvtColor(frame, cv2.COLOR_BGR2GRAY)       #For converting in grayscale\n",
    "    faces = facedetect.detectMultiScale(gray, 1.3, 5)    #size adjustment & face detect\n",
    "    for (x,y,w,h) in faces:\n",
    "        crop_img = frame[y:y+h, x:x+w, :]\n",
    "        resized_img = cv2.resize(crop_img, (50,50))\n",
    "        if len(faces_data) <=100 and i%10==0:\n",
    "            faces_data.append(resized_img)\n",
    "        i = i+1\n",
    "        cv2.putText(frame, str(len(faces_data)), (50,50), cv2.FONT_HERSHEY_COMPLEX, 1, (50,50,255), 1)\n",
    "        cv2.rectangle(frame, (x,y), (x+w, y+h), (50,50,255), 1) \n",
    "    cv2.imshow(\"Frame\",frame)\n",
    "    k = cv2.waitKey(0)\n",
    "    if k == ord('b') or len(faces_data==100):\n",
    "        break\n",
    "video.release()\n",
    "cv2.destroyAllWindows()\n",
    "\n",
    "\n",
    "#Convering all inage data into Numpy array\n",
    "faces_data = np.asarray(faces_data)\n",
    "faces_data = faces_data.reshape(100, -1)\n",
    "\n",
    "if 'names.pkl' not in os.listdir('Data/'):\n",
    "    names = [name]*100\n",
    "    with open('Data/names.pkl','wb') as f:\n",
    "        pickle.dump(names, f)\n",
    "else:\n",
    "    with open('Data/names.pkl','rb') as f:\n",
    "        names = pickle.load(f)\n",
    "    names = names + [name]*100\n",
    "    with open('Data/names.pkl','wb') as f:\n",
    "        pickle.dump(names, f)\n",
    "        \n",
    "#Now doing same thing for face files\n",
    "if 'faces_data.pkl' not in os.listdir('Data/'):\n",
    "    with open('Data/faces_data.pkl','wb') as f:\n",
    "        pickle.dump(faces_data, f)\n",
    "else:\n",
    "    with open('Data/faces_data.pkl', 'rb') as f:\n",
    "        faces = pickle.load(f)\n",
    "    faces = np.append(faces, faces_data, axis = 0)\n",
    "    with open('Data/faces_data.pkl','wb') as f:\n",
    "        pickle.dump(names, f)\n",
    "        "
   ]
  },
  {
   "cell_type": "code",
   "execution_count": null,
   "id": "23e50023",
   "metadata": {},
   "outputs": [],
   "source": [
    "#Convering all inage data into Numpy array\n",
    "# faces_data = np.asarray(faces_data)\n",
    "# faces_data = faces_data.reshape(100, -1)\n",
    "\n",
    "# if 'names.pkl' not in os.listdir('Data/'):\n",
    "#     names = [name]*100\n",
    "#     with open('Data/names.pkl','wb') as f:\n",
    "#         pickle.dump(names, f)\n",
    "# else:\n",
    "#     with open('Data/names.pkl','rb') as f:\n",
    "#         names = pickle.load(f)\n",
    "#     names = names + [name]*100\n",
    "#     with open('Data/names.pkl','wb') as f:\n",
    "#         pickle.dump(names, f)"
   ]
  },
  {
   "cell_type": "code",
   "execution_count": null,
   "id": "3108bde8",
   "metadata": {},
   "outputs": [],
   "source": [
    "#Now doing same thing for face files\n",
    "# if 'faces_data.pkl' not in os.listdir('Data/'):\n",
    "#     with open('Data/faces_data.pkl','wb') as f:\n",
    "#         pickle.dump(faces_data, f)\n",
    "# else:\n",
    "#     with open('Data/faces_data.pkl', 'rb') as f:\n",
    "#         faces = pickle.load(f)\n",
    "#     faces = np.append(faces, faces_data, axis = 0)\n",
    "#     with open('Data/faces_data.pkl','wb') as f:\n",
    "#         pickle.dump(names, f)"
   ]
  }
 ],
 "metadata": {
  "kernelspec": {
   "display_name": "Python 3 (ipykernel)",
   "language": "python",
   "name": "python3"
  },
  "language_info": {
   "codemirror_mode": {
    "name": "ipython",
    "version": 3
   },
   "file_extension": ".py",
   "mimetype": "text/x-python",
   "name": "python",
   "nbconvert_exporter": "python",
   "pygments_lexer": "ipython3",
   "version": "3.9.12"
  }
 },
 "nbformat": 4,
 "nbformat_minor": 5
}
